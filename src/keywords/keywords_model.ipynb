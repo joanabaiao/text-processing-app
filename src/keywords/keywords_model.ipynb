{
 "cells": [
  {
   "cell_type": "markdown",
   "metadata": {},
   "source": [
    "# Keywords model\n"
   ]
  },
  {
   "cell_type": "markdown",
   "metadata": {},
   "source": [
    "https://github.com/MaartenGr/KeyBERT\n"
   ]
  },
  {
   "cell_type": "code",
   "execution_count": 3,
   "metadata": {},
   "outputs": [],
   "source": [
    "import nltk\n",
    "from keybert import KeyBERT\n",
    "from nltk.corpus import wordnet"
   ]
  },
  {
   "cell_type": "code",
   "execution_count": 4,
   "metadata": {},
   "outputs": [],
   "source": [
    "model = KeyBERT()\n",
    "\n",
    "sample_text = \"\"\"\n",
    "Machine learning is a method of data analysis that automates analytical model building. \n",
    "It is a branch of artificial intelligence based on the idea that systems can learn from data, \n",
    "identify patterns, and make decisions with minimal human intervention.\n",
    "\"\"\""
   ]
  },
  {
   "cell_type": "code",
   "execution_count": 4,
   "metadata": {},
   "outputs": [
    {
     "data": {
      "text/plain": [
       "['learning', 'machine', 'data', 'automates', 'model']"
      ]
     },
     "execution_count": 4,
     "metadata": {},
     "output_type": "execute_result"
    }
   ],
   "source": [
    "keywords_extracted = model.extract_keywords(sample_text)\n",
    "keywords = [word[0] for word in keywords_extracted]\n",
    "keywords"
   ]
  },
  {
   "cell_type": "code",
   "execution_count": 9,
   "metadata": {},
   "outputs": [
    {
     "data": {
      "text/html": [
       "<pre style=\"white-space:pre;overflow-x:auto;line-height:normal;font-family:Menlo,'DejaVu Sans Mono',consolas,'Courier New',monospace\"><span style=\"color: #000000; text-decoration-color: #000000; background-color: #ffff00\">Machine</span> <span style=\"color: #000000; text-decoration-color: #000000; background-color: #ffff00\">learning</span> is method of <span style=\"color: #000000; text-decoration-color: #000000; background-color: #ffff00\">data</span> analysis that <span style=\"color: #000000; text-decoration-color: #000000; background-color: #ffff00\">automates</span> analytical <span style=\"color: #000000; text-decoration-color: #000000; background-color: #ffff00\">model</span> building It is branch of artificial \n",
       "intelligence based on the idea that systems can learn from <span style=\"color: #000000; text-decoration-color: #000000; background-color: #ffff00\">data</span> identify patterns and make decisions with minimal \n",
       "human intervention\n",
       "</pre>\n"
      ],
      "text/plain": [
       "\u001b[30;48;2;255;255;0mMachine\u001b[0m \u001b[30;48;2;255;255;0mlearning\u001b[0m is method of \u001b[30;48;2;255;255;0mdata\u001b[0m analysis that \u001b[30;48;2;255;255;0mautomates\u001b[0m analytical \u001b[30;48;2;255;255;0mmodel\u001b[0m building It is branch of artificial \n",
       "intelligence based on the idea that systems can learn from \u001b[30;48;2;255;255;0mdata\u001b[0m identify patterns and make decisions with minimal \n",
       "human intervention\n"
      ]
     },
     "metadata": {},
     "output_type": "display_data"
    }
   ],
   "source": [
    "keywords = model.extract_keywords(sample_text, highlight=True)"
   ]
  },
  {
   "cell_type": "code",
   "execution_count": 8,
   "metadata": {},
   "outputs": [
    {
     "data": {
      "text/plain": [
       "[('learning', 0.3656),\n",
       " ('machine', 0.3539),\n",
       " ('data', 0.3163),\n",
       " ('automates', 0.3064),\n",
       " ('model', 0.3041),\n",
       " ('analysis', 0.2465),\n",
       " ('learn', 0.2387),\n",
       " ('intelligence', 0.2384),\n",
       " ('artificial', 0.2214),\n",
       " ('systems', 0.2191)]"
      ]
     },
     "execution_count": 8,
     "metadata": {},
     "output_type": "execute_result"
    }
   ],
   "source": [
    "keywords_extracted = model.extract_keywords(\n",
    "    sample_text, keyphrase_ngram_range=(1, 1), top_n=10\n",
    ")\n",
    "keywords_extracted"
   ]
  },
  {
   "cell_type": "code",
   "execution_count": 5,
   "metadata": {},
   "outputs": [],
   "source": [
    "def get_synonyms_for_keyword(keyword, n_synonyms=5):\n",
    "\n",
    "    synonyms = []\n",
    "    for syn in wordnet.synsets(keyword):\n",
    "        for l in syn.lemmas():\n",
    "            synonyms.append(l.name().replace(\"_\", \" \"))\n",
    "\n",
    "    synonyms = list(set(synonyms))\n",
    "    synonyms_filtered = [syn for syn in synonyms if syn.lower() != keyword.lower()]\n",
    "    synonyms_filtered = synonyms_filtered[0:n_synonyms]\n",
    "\n",
    "    return synonyms_filtered"
   ]
  },
  {
   "cell_type": "code",
   "execution_count": 7,
   "metadata": {},
   "outputs": [
    {
     "data": {
      "text/plain": [
       "{'learning': ['check', 'encyclopaedism', 'larn', 'read', 'instruct'],\n",
       " 'machine': ['motorcar',\n",
       "  'car',\n",
       "  'political machine',\n",
       "  'simple machine',\n",
       "  'automobile'],\n",
       " 'data': ['datum', 'information', 'data point'],\n",
       " 'automates': ['automatize', 'automatise', 'automate'],\n",
       " 'model': ['mock up', 'mannikin', 'modelling', 'simulation', 'role model']}"
      ]
     },
     "execution_count": 7,
     "metadata": {},
     "output_type": "execute_result"
    }
   ],
   "source": [
    "keywords_synonyms = {}\n",
    "for k in keywords:\n",
    "    synonyms = get_synonyms_for_keyword(k)\n",
    "    keywords_synonyms[k] = synonyms\n",
    "\n",
    "keywords_synonyms"
   ]
  }
 ],
 "metadata": {
  "kernelspec": {
   "display_name": "text_app_env",
   "language": "python",
   "name": "python3"
  },
  "language_info": {
   "codemirror_mode": {
    "name": "ipython",
    "version": 3
   },
   "file_extension": ".py",
   "mimetype": "text/x-python",
   "name": "python",
   "nbconvert_exporter": "python",
   "pygments_lexer": "ipython3",
   "version": "3.12.4"
  }
 },
 "nbformat": 4,
 "nbformat_minor": 2
}
