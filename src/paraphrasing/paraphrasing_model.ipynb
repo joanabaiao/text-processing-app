{
 "cells": [
  {
   "cell_type": "code",
   "execution_count": 9,
   "metadata": {},
   "outputs": [],
   "source": [
    "import torch\n",
    "from transformers import PegasusForConditionalGeneration, PegasusTokenizer\n",
    "from sentence_splitter import SentenceSplitter, split_text_into_sentences"
   ]
  },
  {
   "cell_type": "code",
   "execution_count": 10,
   "metadata": {},
   "outputs": [
    {
     "name": "stderr",
     "output_type": "stream",
     "text": [
      "Some weights of PegasusForConditionalGeneration were not initialized from the model checkpoint at tuner007/pegasus_paraphrase and are newly initialized: ['model.decoder.embed_positions.weight', 'model.encoder.embed_positions.weight']\n",
      "You should probably TRAIN this model on a down-stream task to be able to use it for predictions and inference.\n"
     ]
    }
   ],
   "source": [
    "model_name = \"tuner007/pegasus_paraphrase\"\n",
    "torch_device = \"cuda\" if torch.cuda.is_available() else \"cpu\"\n",
    "tokenizer = PegasusTokenizer.from_pretrained(model_name)\n",
    "model = PegasusForConditionalGeneration.from_pretrained(model_name).to(torch_device)"
   ]
  },
  {
   "cell_type": "code",
   "execution_count": 7,
   "metadata": {},
   "outputs": [],
   "source": [
    "text = \"Cats are omnivores. They eat vegetative items such as rice, milk, pulses, etc, as well as fish, meat, birds, mice, etc. Therefore, cats can feed on both types of food. It is worth mentioning in this my pet cat essay for Class 6 that cats are considered sacred in several cultures such as the Japanese culture. Cats are often depicted as symbols of wit and honour. Several folklores include stories about the intelligence of cats. \""
   ]
  },
  {
   "cell_type": "code",
   "execution_count": 11,
   "metadata": {},
   "outputs": [
    {
     "data": {
      "text/plain": [
       "'They eat vegetative items such as rice, milk, pulses, etc, as well as fish, meat, birds, mice, etc. Therefore, cats can feed on both types of food.'"
      ]
     },
     "execution_count": 11,
     "metadata": {},
     "output_type": "execute_result"
    }
   ],
   "source": [
    "splitter = SentenceSplitter(language=\"en\")\n",
    "sentence_list = splitter.split(text)\n",
    "\n",
    "sentence = sentence_list[1]\n",
    "sentence"
   ]
  },
  {
   "cell_type": "code",
   "execution_count": 13,
   "metadata": {},
   "outputs": [
    {
     "data": {
      "text/plain": [
       "{'input_ids': tensor([[  322,  1461, 66948,   843,   253,   130,  3484,   108,  2612,   108,\n",
       "         31478,   108,   733,   108,   130,   210,   130,  1731,   108,  2804,\n",
       "           108,  3806,   108, 10378,   108,   733,   107,  3272,   108,  4901,\n",
       "           137,  2529,   124,   302,  1020,   113,   425,   107,     1]]), 'attention_mask': tensor([[1, 1, 1, 1, 1, 1, 1, 1, 1, 1, 1, 1, 1, 1, 1, 1, 1, 1, 1, 1, 1, 1, 1, 1,\n",
       "         1, 1, 1, 1, 1, 1, 1, 1, 1, 1, 1, 1, 1, 1, 1]])}"
      ]
     },
     "execution_count": 13,
     "metadata": {},
     "output_type": "execute_result"
    }
   ],
   "source": [
    "inputs = tokenizer([sentence], return_tensors=\"pt\", truncation=True)\n",
    "inputs"
   ]
  },
  {
   "cell_type": "code",
   "execution_count": 14,
   "metadata": {},
   "outputs": [],
   "source": [
    "paraphrase = model.generate(\n",
    "    input_ids=inputs[\"input_ids\"],\n",
    "    attention_mask=inputs[\"attention_mask\"],\n",
    "    num_beams=4,\n",
    "    max_length=128,\n",
    "    # min_length=min_length,\n",
    "    early_stopping=True,\n",
    ")"
   ]
  },
  {
   "cell_type": "code",
   "execution_count": 16,
   "metadata": {},
   "outputs": [],
   "source": [
    "paraphrased_text = tokenizer.decode(paraphrase[0], skip_special_tokens=True)"
   ]
  },
  {
   "cell_type": "code",
   "execution_count": 17,
   "metadata": {},
   "outputs": [
    {
     "data": {
      "text/plain": [
       "'Cats can eat both types of food, as well as vegetative items.'"
      ]
     },
     "execution_count": 17,
     "metadata": {},
     "output_type": "execute_result"
    }
   ],
   "source": [
    "paraphrased_text"
   ]
  },
  {
   "cell_type": "code",
   "execution_count": 8,
   "metadata": {},
   "outputs": [
    {
     "data": {
      "text/plain": [
       "['Cats are omnivores.',\n",
       " 'They eat vegetative items such as rice, milk, pulses, etc, as well as fish, meat, birds, mice, etc. Therefore, cats can feed on both types of food.',\n",
       " 'It is worth mentioning in this my pet cat essay for Class 6 that cats are considered sacred in several cultures such as the Japanese culture.',\n",
       " 'Cats are often depicted as symbols of wit and honour.',\n",
       " 'Several folklores include stories about the intelligence of cats.']"
      ]
     },
     "execution_count": 8,
     "metadata": {},
     "output_type": "execute_result"
    }
   ],
   "source": [
    "# Split the text into sentences\n",
    "splitter = SentenceSplitter(language=\"en\")\n",
    "sentence_list = splitter.split(text)\n",
    "\n",
    "for sentence in sentence_list:\n",
    "    sentence = sentence.strip()\n",
    "\n",
    "    inputs = tokenizer([sentence], return_tensors=\"pt\", truncation=True)\n",
    "\n",
    "    batch = tokenizer(\n",
    "        [sentence],\n",
    "        truncation=True,\n",
    "        padding=\"longest\",\n",
    "        max_length=60,\n",
    "        return_tensors=\"pt\",\n",
    "    ).to(torch_device)"
   ]
  }
 ],
 "metadata": {
  "kernelspec": {
   "display_name": "text_processing_env",
   "language": "python",
   "name": "python3"
  },
  "language_info": {
   "codemirror_mode": {
    "name": "ipython",
    "version": 3
   },
   "file_extension": ".py",
   "mimetype": "text/x-python",
   "name": "python",
   "nbconvert_exporter": "python",
   "pygments_lexer": "ipython3",
   "version": "3.11.9"
  }
 },
 "nbformat": 4,
 "nbformat_minor": 2
}
